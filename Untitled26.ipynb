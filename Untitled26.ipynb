{
 "cells": [
  {
   "cell_type": "code",
   "execution_count": 1,
   "id": "2f6511a3",
   "metadata": {},
   "outputs": [],
   "source": [
    "import numpy as np"
   ]
  },
  {
   "cell_type": "code",
   "execution_count": null,
   "id": "ccf48ea3",
   "metadata": {},
   "outputs": [],
   "source": [
    "from scipy.optimize import fsolve"
   ]
  },
  {
   "cell_type": "code",
   "execution_count": 15,
   "id": "3b7560fa",
   "metadata": {},
   "outputs": [
    {
     "ename": "SyntaxError",
     "evalue": "invalid syntax (2725374663.py, line 1)",
     "output_type": "error",
     "traceback": [
      "\u001b[1;36m  Input \u001b[1;32mIn [15]\u001b[1;36m\u001b[0m\n\u001b[1;33m    f = lambda D: D**5-12D**4+16q**2/(3.14**2**0.6**2**32.2)\u001b[0m\n\u001b[1;37m                         ^\u001b[0m\n\u001b[1;31mSyntaxError\u001b[0m\u001b[1;31m:\u001b[0m invalid syntax\n"
     ]
    }
   ],
   "source": [
    "\n",
    "f = lambda D: D**5-12D**4+16q**2/(3.14**2**0.6**2**32.2)\n",
    "f_prime = lambda D: D**5"
   ]
  },
  {
   "cell_type": "code",
   "execution_count": 16,
   "id": "ef14b61a",
   "metadata": {},
   "outputs": [
    {
     "ename": "NameError",
     "evalue": "name 'f_prime' is not defined",
     "output_type": "error",
     "traceback": [
      "\u001b[1;31m---------------------------------------------------------------------------\u001b[0m",
      "\u001b[1;31mNameError\u001b[0m                                 Traceback (most recent call last)",
      "Input \u001b[1;32mIn [16]\u001b[0m, in \u001b[0;36m<cell line: 1>\u001b[1;34m()\u001b[0m\n\u001b[1;32m----> 1\u001b[0m newton_raphson \u001b[38;5;241m=\u001b[39m \u001b[38;5;241m1.4\u001b[39m \u001b[38;5;241m-\u001b[39m (f(\u001b[38;5;241m1.4\u001b[39m))\u001b[38;5;241m/\u001b[39m(\u001b[43mf_prime\u001b[49m(\u001b[38;5;241m1.4\u001b[39m))\n",
      "\u001b[1;31mNameError\u001b[0m: name 'f_prime' is not defined"
     ]
    }
   ],
   "source": [
    "newton_raphson = 1.4 - (f(1.4))/(f_prime(1.4))"
   ]
  },
  {
   "cell_type": "code",
   "execution_count": null,
   "id": "557756a2",
   "metadata": {},
   "outputs": [],
   "source": []
  },
  {
   "cell_type": "code",
   "execution_count": 7,
   "id": "ae97ffb8",
   "metadata": {},
   "outputs": [],
   "source": [
    "import numpy as np\n",
    "import matplotlib.pyplot as plt"
   ]
  },
  {
   "cell_type": "code",
   "execution_count": 9,
   "id": "f82ef0c2",
   "metadata": {},
   "outputs": [],
   "source": [
    "L = 25000 # centimeters\n",
    "p1 = 250 \n",
    "p2 = 100\n",
    "d = 100 # distance in meters\n",
    "I = 81960000 \n",
    "E = 200000 # in pascals"
   ]
  },
  {
   "cell_type": "code",
   "execution_count": 17,
   "id": "05a11a8e",
   "metadata": {},
   "outputs": [],
   "source": [
    "A = 250*100"
   ]
  },
  {
   "cell_type": "code",
   "execution_count": null,
   "id": "37494d70",
   "metadata": {},
   "outputs": [],
   "source": []
  },
  {
   "cell_type": "code",
   "execution_count": null,
   "id": "4010e5cd",
   "metadata": {},
   "outputs": [],
   "source": []
  }
 ],
 "metadata": {
  "kernelspec": {
   "display_name": "Python 3 (ipykernel)",
   "language": "python",
   "name": "python3"
  },
  "language_info": {
   "codemirror_mode": {
    "name": "ipython",
    "version": 3
   },
   "file_extension": ".py",
   "mimetype": "text/x-python",
   "name": "python",
   "nbconvert_exporter": "python",
   "pygments_lexer": "ipython3",
   "version": "3.9.12"
  }
 },
 "nbformat": 4,
 "nbformat_minor": 5
}
